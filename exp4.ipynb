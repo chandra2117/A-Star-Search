{
 "cells": [
  {
   "cell_type": "code",
   "execution_count": 2,
   "id": "d58b6eb9-004b-426b-89d3-0f64e1e69cb5",
   "metadata": {},
   "outputs": [],
   "source": [
    "from collections import defaultdict\n",
    "\n",
    "H_dist = {}\n",
    "\n",
    "def aStarAlgo(start_node, stop_node):\n",
    "    open_set = set(start_node)\n",
    "    closed_set = set()\n",
    "    g = {}               # store distance from starting node\n",
    "    parents = {}         # parents contains an adjacency map of all nodes\n",
    "    \n",
    "    # distance of starting node from itself is zero\n",
    "    g[start_node] = 0\n",
    "    \n",
    "    # start_node is root node i.e. it has no parent\n",
    "    parents[start_node] = start_node\n",
    "    \n",
    "    while len(open_set) > 0:\n",
    "        n = None\n",
    "        \n",
    "        # node with lowest f() is found\n",
    "        for v in open_set:\n",
    "            if n is None or g[v] + heuristic(v) < g[n] + heuristic(n):\n",
    "                n = v\n",
    "        \n",
    "        # if n is None, no path can be found\n",
    "        if n is None:\n",
    "            print('Path does not exist!')\n",
    "            return None\n",
    "        \n",
    "        if n == stop_node or Graph_nodes[n] is None:\n",
    "            pass\n",
    "        else:\n",
    "            for (m, weight) in get_neighbors(n):\n",
    "                # nodes 'm' not in open or closed sets are added to open_set\n",
    "                if m not in open_set and m not in closed_set:\n",
    "                    open_set.add(m)\n",
    "                    parents[m] = n\n",
    "                    g[m] = g[n] + weight\n",
    "                else:\n",
    "                    # update if a shorter path is found\n",
    "                    if g[m] > g[n] + weight:\n",
    "                        g[m] = g[n] + weight\n",
    "                        parents[m] = n\n",
    "                        if m in closed_set:\n",
    "                            closed_set.remove(m)\n",
    "                            open_set.add(m)\n",
    "        \n",
    "        # if the current node is the stop_node, reconstruct path\n",
    "        if n == stop_node:\n",
    "            path = []\n",
    "            while parents[n] != n:\n",
    "                path.append(n)\n",
    "                n = parents[n]\n",
    "            path.append(start_node)\n",
    "            path.reverse()\n",
    "            print('Path found: {}'.format(path))\n",
    "            return path\n",
    "        \n",
    "        # move n from open_set to closed_set\n",
    "        open_set.remove(n)\n",
    "        closed_set.add(n)\n",
    "    \n",
    "    print('Path does not exist!')\n",
    "    return None"
   ]
  },
  {
   "cell_type": "code",
   "execution_count": 3,
   "id": "6a102f82-f5a6-427a-a6f5-b3b5c1631f36",
   "metadata": {},
   "outputs": [],
   "source": [
    "def get_neighbors(v):\n",
    "    \"\"\"\n",
    "    Retrieves a value from the Graph_nodes dictionary based on the provided key.\n",
    "\n",
    "    Parameters:\n",
    "    v (hashable): The key used to look up the value in the Graph_nodes dictionary.\n",
    "\n",
    "    Returns:\n",
    "    list of tuples: Each tuple contains (neighbor, cost)\n",
    "    \"\"\"\n",
    "    if v in Graph_nodes:\n",
    "        return Graph_nodes[v]\n",
    "    else:\n",
    "        return None"
   ]
  },
  {
   "cell_type": "code",
   "execution_count": 4,
   "id": "3b9b313b-8526-46ba-8c68-81f88ae01127",
   "metadata": {},
   "outputs": [],
   "source": [
    "def heuristic(n):\n",
    "    return H_dist[n]"
   ]
  },
  {
   "cell_type": "code",
   "execution_count": 5,
   "id": "e1f2dd40-3825-412c-a588-f08f84b62c14",
   "metadata": {},
   "outputs": [
    {
     "name": "stdin",
     "output_type": "stream",
     "text": [
      "Enter number of nodes and edges:  10 14\n"
     ]
    },
    {
     "name": "stdout",
     "output_type": "stream",
     "text": [
      "Enter edges (u v cost):\n"
     ]
    },
    {
     "name": "stdin",
     "output_type": "stream",
     "text": [
      " A B 6\n",
      " A F 3\n",
      " B D 2\n",
      " B C 3\n",
      " C D 1\n",
      " C E 5\n",
      " D E 8\n",
      " E I 5\n",
      " E J 5\n",
      " F G 1\n",
      " G I 3\n",
      " I J 3\n",
      " F H 7\n",
      " I H 2\n"
     ]
    },
    {
     "name": "stdout",
     "output_type": "stream",
     "text": [
      "Enter heuristic values (node h):\n"
     ]
    },
    {
     "name": "stdin",
     "output_type": "stream",
     "text": [
      " A 10\n",
      " B 8\n",
      " C 5\n",
      " D 7\n",
      " E 3\n",
      " F 6\n",
      " G 5\n",
      " H 3\n",
      " I 1\n",
      " J 0\n"
     ]
    },
    {
     "name": "stdout",
     "output_type": "stream",
     "text": [
      "Heuristic values: {'A': 10.0, 'B': 8.0, 'C': 5.0, 'D': 7.0, 'E': 3.0, 'F': 6.0, 'G': 5.0, 'H': 3.0, 'I': 1.0, 'J': 0.0}\n",
      "Graph adjacency list: {'A': [('B', 6.0), ('F', 3.0)], 'B': [('A', 6.0), ('D', 2.0), ('C', 3.0)], 'F': [('A', 3.0), ('G', 1.0), ('H', 7.0)], 'D': [('B', 2.0), ('C', 1.0), ('E', 8.0)], 'C': [('B', 3.0), ('D', 1.0), ('E', 5.0)], 'E': [('C', 5.0), ('D', 8.0), ('I', 5.0), ('J', 5.0)], 'I': [('E', 5.0), ('G', 3.0), ('J', 3.0), ('H', 2.0)], 'J': [('E', 5.0), ('I', 3.0)], 'G': [('F', 1.0), ('I', 3.0)], 'H': [('F', 7.0), ('I', 2.0)]}\n"
     ]
    },
    {
     "name": "stdin",
     "output_type": "stream",
     "text": [
      "Enter start node:  A\n",
      "Enter goal node:  J\n"
     ]
    },
    {
     "name": "stdout",
     "output_type": "stream",
     "text": [
      "Path found: ['A', 'F', 'G', 'I', 'J']\n"
     ]
    }
   ],
   "source": [
    "if __name__ == \"__main__\":\n",
    "    graph = defaultdict(list)\n",
    "    n, e = map(int, input(\"Enter number of nodes and edges: \").split())\n",
    "    \n",
    "    print(\"Enter edges (u v cost):\")\n",
    "    for i in range(e):\n",
    "        u, v, cost = map(str, input().split())\n",
    "        t = (v, float(cost))\n",
    "        graph[u].append(t)\n",
    "        t1 = (u, float(cost))\n",
    "        graph[v].append(t1)\n",
    "    \n",
    "    print(\"Enter heuristic values (node h):\")\n",
    "    for i in range(n):\n",
    "        node, h = map(str, input().split())\n",
    "        H_dist[node] = float(h)\n",
    "    \n",
    "    print(\"Heuristic values:\", H_dist)\n",
    "    \n",
    "    Graph_nodes = graph\n",
    "    print(\"Graph adjacency list:\", dict(graph))\n",
    "    \n",
    "    start = input(\"Enter start node: \")\n",
    "    goal = input(\"Enter goal node: \")\n",
    "    \n",
    "    aStarAlgo(start, goal)"
   ]
  },
  {
   "cell_type": "code",
   "execution_count": null,
   "id": "da41cddb-0fcd-42cc-b6a9-7ca9df6927a7",
   "metadata": {},
   "outputs": [],
   "source": []
  }
 ],
 "metadata": {
  "kernelspec": {
   "display_name": "Python 3 (ipykernel)",
   "language": "python",
   "name": "python3"
  },
  "language_info": {
   "codemirror_mode": {
    "name": "ipython",
    "version": 3
   },
   "file_extension": ".py",
   "mimetype": "text/x-python",
   "name": "python",
   "nbconvert_exporter": "python",
   "pygments_lexer": "ipython3",
   "version": "3.13.5"
  }
 },
 "nbformat": 4,
 "nbformat_minor": 5
}
